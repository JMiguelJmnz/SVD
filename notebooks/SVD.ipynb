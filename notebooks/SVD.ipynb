{
 "cells": [
  {
   "cell_type": "code",
   "execution_count": 65,
   "id": "5834aaf6-74fb-498e-9b27-32df5e09fb0f",
   "metadata": {},
   "outputs": [
    {
     "data": {
      "text/html": [
       "<div>\n",
       "<style scoped>\n",
       "    .dataframe tbody tr th:only-of-type {\n",
       "        vertical-align: middle;\n",
       "    }\n",
       "\n",
       "    .dataframe tbody tr th {\n",
       "        vertical-align: top;\n",
       "    }\n",
       "\n",
       "    .dataframe thead th {\n",
       "        text-align: right;\n",
       "    }\n",
       "</style>\n",
       "<table border=\"1\" class=\"dataframe\">\n",
       "  <thead>\n",
       "    <tr style=\"text-align: right;\">\n",
       "      <th></th>\n",
       "      <th>Matematicas</th>\n",
       "      <th>Ciencias</th>\n",
       "      <th>Español</th>\n",
       "      <th>Historia</th>\n",
       "      <th>EdFisica</th>\n",
       "    </tr>\n",
       "  </thead>\n",
       "  <tbody>\n",
       "    <tr>\n",
       "      <th>Lucia</th>\n",
       "      <td>7.0</td>\n",
       "      <td>6.5</td>\n",
       "      <td>9.2</td>\n",
       "      <td>8.6</td>\n",
       "      <td>8.0</td>\n",
       "    </tr>\n",
       "    <tr>\n",
       "      <th>Pedro</th>\n",
       "      <td>7.5</td>\n",
       "      <td>9.4</td>\n",
       "      <td>7.3</td>\n",
       "      <td>7.0</td>\n",
       "      <td>7.0</td>\n",
       "    </tr>\n",
       "    <tr>\n",
       "      <th>Ines</th>\n",
       "      <td>7.6</td>\n",
       "      <td>9.2</td>\n",
       "      <td>8.0</td>\n",
       "      <td>8.0</td>\n",
       "      <td>7.5</td>\n",
       "    </tr>\n",
       "    <tr>\n",
       "      <th>Luis</th>\n",
       "      <td>5.0</td>\n",
       "      <td>6.5</td>\n",
       "      <td>6.5</td>\n",
       "      <td>7.0</td>\n",
       "      <td>9.0</td>\n",
       "    </tr>\n",
       "    <tr>\n",
       "      <th>Andres</th>\n",
       "      <td>6.0</td>\n",
       "      <td>6.0</td>\n",
       "      <td>7.8</td>\n",
       "      <td>8.9</td>\n",
       "      <td>7.3</td>\n",
       "    </tr>\n",
       "    <tr>\n",
       "      <th>Ana</th>\n",
       "      <td>7.8</td>\n",
       "      <td>9.6</td>\n",
       "      <td>7.7</td>\n",
       "      <td>8.0</td>\n",
       "      <td>6.5</td>\n",
       "    </tr>\n",
       "    <tr>\n",
       "      <th>Carlos</th>\n",
       "      <td>6.3</td>\n",
       "      <td>6.4</td>\n",
       "      <td>8.2</td>\n",
       "      <td>9.0</td>\n",
       "      <td>7.2</td>\n",
       "    </tr>\n",
       "    <tr>\n",
       "      <th>Jose</th>\n",
       "      <td>7.9</td>\n",
       "      <td>9.7</td>\n",
       "      <td>7.5</td>\n",
       "      <td>8.0</td>\n",
       "      <td>6.0</td>\n",
       "    </tr>\n",
       "    <tr>\n",
       "      <th>Sonia</th>\n",
       "      <td>6.0</td>\n",
       "      <td>6.0</td>\n",
       "      <td>6.5</td>\n",
       "      <td>5.5</td>\n",
       "      <td>8.7</td>\n",
       "    </tr>\n",
       "    <tr>\n",
       "      <th>Maria</th>\n",
       "      <td>6.8</td>\n",
       "      <td>7.2</td>\n",
       "      <td>8.7</td>\n",
       "      <td>9.0</td>\n",
       "      <td>7.0</td>\n",
       "    </tr>\n",
       "  </tbody>\n",
       "</table>\n",
       "</div>"
      ],
      "text/plain": [
       "        Matematicas  Ciencias  Español  Historia  EdFisica\n",
       "Lucia           7.0       6.5      9.2       8.6       8.0\n",
       "Pedro           7.5       9.4      7.3       7.0       7.0\n",
       "Ines            7.6       9.2      8.0       8.0       7.5\n",
       "Luis            5.0       6.5      6.5       7.0       9.0\n",
       "Andres          6.0       6.0      7.8       8.9       7.3\n",
       "Ana             7.8       9.6      7.7       8.0       6.5\n",
       "Carlos          6.3       6.4      8.2       9.0       7.2\n",
       "Jose            7.9       9.7      7.5       8.0       6.0\n",
       "Sonia           6.0       6.0      6.5       5.5       8.7\n",
       "Maria           6.8       7.2      8.7       9.0       7.0"
      ]
     },
     "execution_count": 65,
     "metadata": {},
     "output_type": "execute_result"
    }
   ],
   "source": [
    "import pandas as pd\n",
    "import numpy as np\n",
    "\n",
    "calificaciones = pd.DataFrame(np.array([[7, 6.5, 9.2, 8.6, 8],\n",
    "                            [7.5, 9.4, 7.3, 7, 7],\n",
    "                            [7.6, 9.2, 8, 8, 7.5],\n",
    "                            [5, 6.5, 6.5, 7, 9],\n",
    "                            [6, 6, 7.8, 8.9, 7.3],\n",
    "                            [7.8, 9.6, 7.7, 8, 6.5],\n",
    "                            [6.3, 6.4, 8.2, 9, 7.2],\n",
    "                            [7.9, 9.7, 7.5, 8, 6],\n",
    "                            [6, 6, 6.5, 5.5, 8.7],\n",
    "                            [6.8, 7.2, 8.7, 9, 7]]), \n",
    "                 index = ['Lucia', 'Pedro', 'Ines', 'Luis', 'Andres', 'Ana', 'Carlos', 'Jose', 'Sonia', 'Maria'],\n",
    "                 columns = ['Matematicas', 'Ciencias', 'Español', 'Historia', 'EdFisica'])\n",
    "calificaciones"
   ]
  },
  {
   "cell_type": "code",
   "execution_count": 66,
   "id": "90adaf9f-8209-442e-96d5-ad7183295860",
   "metadata": {},
   "outputs": [],
   "source": [
    "# Creacion de series conteniendo nombres de alumnos y materias\n",
    "materias = [['Matematicas'], ['Ciencias'], ['Español'], ['Historia'], ['EdFisica']]\n",
    "materias_names = pd.Series([item[0] for item in materias])\n",
    "alumnos = [['Lucia'], ['Pedro'], ['Ines'], ['Luis'], ['Andres'], ['Ana'], ['Carlos'], ['Jose'], ['Sonia'], ['Maria']]\n",
    "alumnos_names = pd.Series([item[0] for item in alumnos])"
   ]
  },
  {
   "cell_type": "code",
   "execution_count": 7,
   "id": "441261f3-65fd-41c4-917f-d4cb61e2bbe5",
   "metadata": {},
   "outputs": [],
   "source": [
    "from numpy import array\n",
    "from sklearn.decomposition import TruncatedSVD\n",
    "from numpy import diag\n",
    "from numpy import zeros\n",
    "from scipy.linalg import svd\n",
    "import numpy as np\n",
    "import matplotlib.pyplot as plt"
   ]
  },
  {
   "cell_type": "code",
   "execution_count": 8,
   "id": "e4386954-1c84-4363-8356-5f03d91a78aa",
   "metadata": {},
   "outputs": [],
   "source": [
    "U, s, VT = svd(calificaciones) # Obtención de matrices \n",
    "Sigma = zeros((calificaciones.shape[0], calificaciones.shape[1])) # Creación de matriz de ceros de la misma dimensión que la original\n",
    "Sigma[:calificaciones.shape[1], :calificaciones.shape[1]] = diag(s)"
   ]
  },
  {
   "cell_type": "markdown",
   "id": "4d38b09a-1ac2-44e7-83a1-8e05d4324830",
   "metadata": {},
   "source": [
    "Paso utilizado para comprobacion, se deja en Markdown para ahorrar espacio\n",
    "\n",
    "print(\"Matriz U: \")\n",
    "print(U)\n",
    "print(\"Matriz Sigma\")\n",
    "print(Sigma)\n",
    "print(\"Matriz VT\")\n",
    "print(VT)"
   ]
  },
  {
   "cell_type": "code",
   "execution_count": 10,
   "id": "3cc98fd6-835f-49ed-8d26-c33deae404d1",
   "metadata": {},
   "outputs": [
    {
     "name": "stdout",
     "output_type": "stream",
     "text": [
      "[[7.  6.5 9.2 8.6 8. ]\n",
      " [7.5 9.4 7.3 7.  7. ]\n",
      " [7.6 9.2 8.  8.  7.5]\n",
      " [5.  6.5 6.5 7.  9. ]\n",
      " [6.  6.  7.8 8.9 7.3]\n",
      " [7.8 9.6 7.7 8.  6.5]\n",
      " [6.3 6.4 8.2 9.  7.2]\n",
      " [7.9 9.7 7.5 8.  6. ]\n",
      " [6.  6.  6.5 5.5 8.7]\n",
      " [6.8 7.2 8.7 9.  7. ]]\n"
     ]
    }
   ],
   "source": [
    "# Para reconstruir la matriz original\n",
    "B = U.dot(Sigma.dot(VT))\n",
    "print(B)"
   ]
  },
  {
   "cell_type": "markdown",
   "id": "b6ca1ea0-c213-45b3-9401-be67bf7180b3",
   "metadata": {},
   "source": [
    "# Reduccion a 2D"
   ]
  },
  {
   "cell_type": "code",
   "execution_count": 24,
   "id": "5ce08309-aae5-4b78-bfe3-c87b2cc079fb",
   "metadata": {},
   "outputs": [
    {
     "name": "stdout",
     "output_type": "stream",
     "text": [
      "U Reducida:\n",
      "[[-0.33090478 -0.29844247]\n",
      " [-0.32079813  0.35590965]\n",
      " [-0.33887152  0.21475231]\n",
      " [-0.28631997 -0.34779685]\n",
      " [-0.3037477  -0.3046643 ]\n",
      " [-0.33301138  0.39608249]\n",
      " [-0.31300374 -0.24404278]\n",
      " [-0.328788    0.47553197]\n",
      " [-0.27389698 -0.26452216]\n",
      " [-0.32638301 -0.10871076]]\n"
     ]
    }
   ],
   "source": [
    "# Reducción a DOS Dimensiones\n",
    "n_elements = 2\n",
    "\n",
    "U2D = U[:, :n_elements]\n",
    "print(\"U Reducida:\")\n",
    "print(U2D)"
   ]
  },
  {
   "cell_type": "code",
   "execution_count": 25,
   "id": "d843be33-193d-4a91-92ef-45b25e6a2a5a",
   "metadata": {},
   "outputs": [
    {
     "name": "stdout",
     "output_type": "stream",
     "text": [
      "Matriz Sigma Reducida\n",
      "[[53.21335049  0.        ]\n",
      " [ 0.          5.35631448]]\n"
     ]
    }
   ],
   "source": [
    "Sigma2D = Sigma[:n_elements, :n_elements]\n",
    "print(\"Matriz Sigma Reducida\")\n",
    "print(Sigma2D)"
   ]
  },
  {
   "cell_type": "code",
   "execution_count": 26,
   "id": "82eb78fb-f50c-4c8b-a03b-9edb02ff82d8",
   "metadata": {},
   "outputs": [
    {
     "name": "stdout",
     "output_type": "stream",
     "text": [
      "VT Reducida\n",
      "[[-0.40556463 -0.45759727 -0.46123811 -0.47103299 -0.43761787]\n",
      " [ 0.30388113  0.70497323 -0.20845983 -0.2165757  -0.56595801]]\n"
     ]
    }
   ],
   "source": [
    "VT2D = VT[:n_elements, :]\n",
    "print(\"VT Reducida\")\n",
    "print(VT2D)"
   ]
  },
  {
   "cell_type": "code",
   "execution_count": 27,
   "id": "91169c9e-9169-4782-b6b6-11d95ff87019",
   "metadata": {},
   "outputs": [
    {
     "name": "stdout",
     "output_type": "stream",
     "text": [
      "Matriz A transformada:\n",
      "[[6.65563617 6.93068907 8.45496902 8.64041633 8.61053016]\n",
      " [7.50259774 9.15546106 7.47627701 7.62801112 6.39154032]\n",
      " [7.66288835 9.06253486 8.0774837  8.24477427 7.24032869]\n",
      " [5.61309793 5.65867129 7.41578628 7.58014066 7.72189396]\n",
      " [6.05941975 6.24591247 7.7953721  7.96693512 7.99698132]\n",
      " [7.83156613 9.60455223 7.73118336 7.88753689 6.55416982]\n",
      " [6.35785122 6.70021013 7.95486409 8.12861624 8.02875678]\n",
      " [7.86973795 9.80171752 7.53881312 7.68951159 6.21497236]\n",
      " [5.48053658 5.67061811 7.01789357 7.17215282 7.18015541]\n",
      " [6.86687283 7.53702066 8.13213661 8.30697925 7.93006916]]\n"
     ]
    }
   ],
   "source": [
    "A2D = U2D.dot(Sigma2D.dot(VT2D))\n",
    "print(\"Matriz A transformada:\")\n",
    "print(A2D)"
   ]
  },
  {
   "cell_type": "code",
   "execution_count": 16,
   "id": "4e2d92f8-fd6d-4331-b2f6-3229222ea237",
   "metadata": {},
   "outputs": [
    {
     "name": "stdout",
     "output_type": "stream",
     "text": [
      "Matriz T (2 Dimensiones):\n",
      "[[-17.60855193  -1.59855173]\n",
      " [-17.07074326   1.90636402]\n",
      " [-18.03248887   1.15028089]\n",
      " [-15.23604486  -1.86290932]\n",
      " [-16.1634327   -1.6318778 ]\n",
      " [-17.7206514    2.12154237]\n",
      " [-16.65597775  -1.30716988]\n",
      " [-17.49591103   2.54709878]\n",
      " [-14.57497601  -1.41686385]\n",
      " [-17.36793336  -0.58228904]]\n"
     ]
    }
   ],
   "source": [
    "T2 = UReduced2.dot(SigmaReduced2)\n",
    "print(\"Matriz T (2 Dimensiones):\")\n",
    "print(T2)"
   ]
  },
  {
   "cell_type": "code",
   "execution_count": 51,
   "id": "eb869d96-0521-4ed8-82bd-a358ab14712b",
   "metadata": {},
   "outputs": [
    {
     "data": {
      "image/png": "[encoded data removed]",
      "text/plain": [
       "<Figure size 640x480 with 1 Axes>"
      ]
     },
     "metadata": {},
     "output_type": "display_data"
    }
   ],
   "source": [
    "df = pd.DataFrame(T2, columns = [\"a\", \"b\"])\n",
    "x = df.iloc[:,0]\n",
    "y = df.iloc[:,1]\n",
    "x = x.to_numpy()\n",
    "y = y.to_numpy()\n",
    "fig, ax = plt.subplots()\n",
    "ax.set_title(\"Mapa de observaciones\")\n",
    "ax.scatter(x,y)\n",
    "\n",
    "for i, txt in enumerate(alumnos_names):\n",
    "    ax.annotate(txt, (x[i], y[i]))"
   ]
  },
  {
   "cell_type": "markdown",
   "id": "220fe5a2-f6eb-4acc-a305-c0c71cc2b4c0",
   "metadata": {},
   "source": [
    "# Reducción a 3 Dimensiones"
   ]
  },
  {
   "cell_type": "code",
   "execution_count": 67,
   "id": "3145a6d9-01f5-4dc5-a251-4e02cc5fc002",
   "metadata": {},
   "outputs": [
    {
     "name": "stdout",
     "output_type": "stream",
     "text": [
      "Matriz A transformada:\n",
      "[[6.65245886 6.72762726 8.69042319 9.08512051 8.09898421]\n",
      " [7.50649243 9.40437093 7.1876611  7.08289996 7.01858503]\n",
      " [7.66453175 9.1675645  7.95569976 8.01475998 7.50491554]\n",
      " [5.6205042  6.13200674 6.8669445  6.54353881 8.91430342]\n",
      " [6.05471948 5.94551744 8.14368606 8.62479847 7.24023707]\n",
      " [7.83115817 9.57847935 7.76141538 7.94463634 6.48848799]\n",
      " [6.35253602 6.36051578 8.34874639 8.87254488 7.17301112]\n",
      " [7.86825556 9.7069775  7.64866605 7.89699168 5.97630674]\n",
      " [5.49031524 6.29557293 6.29324613 5.80350542 8.75451889]\n",
      " [6.86123771 7.17687926 8.54972766 9.09568679 7.02281405]]\n"
     ]
    }
   ],
   "source": [
    "n_elements = 3\n",
    "\n",
    "U3D = U[:, :n_elements]\n",
    "Sigma3D = Sigma[:n_elements, :n_elements]\n",
    "VT3D = VT[:n_elements, :]\n",
    "\n",
    "A3D = U3D.dot(Sigma3D.dot(VT3D))\n",
    "print(\"Matriz A transformada:\")\n",
    "print(A3D)"
   ]
  },
  {
   "cell_type": "code",
   "execution_count": 68,
   "id": "5daf8d7f-fc21-4dfe-b3e9-de36f5d2cb68",
   "metadata": {},
   "outputs": [
    {
     "name": "stdout",
     "output_type": "stream",
     "text": [
      "Matriz T (3 Dimensiones):\n",
      "[[-17.60855193  -1.59855173   0.74573717]\n",
      " [-17.07074326   1.90636402  -0.91411251]\n",
      " [-18.03248887   1.15028089  -0.38571754]\n",
      " [-15.23604486  -1.86290932  -1.73830731]\n",
      " [-16.1634327   -1.6318778    1.10318989]\n",
      " [-17.7206514    2.12154237   0.09575169]\n",
      " [-16.65597775  -1.30716988   1.24751522]\n",
      " [-17.49591103   2.54709878   0.34792931]\n",
      " [-14.57497601  -1.41686385  -2.29512399]\n",
      " [-17.36793336  -0.58228904   1.32260625]]\n"
     ]
    }
   ],
   "source": [
    "T3D = U3D.dot(Sigma3D)\n",
    "print(\"Matriz T (3 Dimensiones):\")\n",
    "print(T3D)"
   ]
  },
  {
   "cell_type": "code",
   "execution_count": 55,
   "id": "28021a26-f264-47e3-a180-613d9d4b9420",
   "metadata": {},
   "outputs": [
    {
     "data": {
      "text/plain": [
       "<contextlib.ExitStack at 0x2851f969ea0>"
      ]
     },
     "execution_count": 55,
     "metadata": {},
     "output_type": "execute_result"
    }
   ],
   "source": [
    "from mpl_toolkits import mplot3d\n",
    "%matplotlib inline\n",
    "plt.ion()"
   ]
  },
  {
   "cell_type": "code",
   "execution_count": 56,
   "id": "748214dd-7af3-4acd-9926-4b1058963ee0",
   "metadata": {},
   "outputs": [
    {
     "data": {
      "text/html": [
       "<div>\n",
       "<style scoped>\n",
       "    .dataframe tbody tr th:only-of-type {\n",
       "        vertical-align: middle;\n",
       "    }\n",
       "\n",
       "    .dataframe tbody tr th {\n",
       "        vertical-align: top;\n",
       "    }\n",
       "\n",
       "    .dataframe thead th {\n",
       "        text-align: right;\n",
       "    }\n",
       "</style>\n",
       "<table border=\"1\" class=\"dataframe\">\n",
       "  <thead>\n",
       "    <tr style=\"text-align: right;\">\n",
       "      <th></th>\n",
       "      <th>a</th>\n",
       "      <th>b</th>\n",
       "      <th>c</th>\n",
       "    </tr>\n",
       "  </thead>\n",
       "  <tbody>\n",
       "    <tr>\n",
       "      <th>0</th>\n",
       "      <td>-17.608552</td>\n",
       "      <td>-1.598552</td>\n",
       "      <td>0.745737</td>\n",
       "    </tr>\n",
       "    <tr>\n",
       "      <th>1</th>\n",
       "      <td>-17.070743</td>\n",
       "      <td>1.906364</td>\n",
       "      <td>-0.914113</td>\n",
       "    </tr>\n",
       "    <tr>\n",
       "      <th>2</th>\n",
       "      <td>-18.032489</td>\n",
       "      <td>1.150281</td>\n",
       "      <td>-0.385718</td>\n",
       "    </tr>\n",
       "    <tr>\n",
       "      <th>3</th>\n",
       "      <td>-15.236045</td>\n",
       "      <td>-1.862909</td>\n",
       "      <td>-1.738307</td>\n",
       "    </tr>\n",
       "    <tr>\n",
       "      <th>4</th>\n",
       "      <td>-16.163433</td>\n",
       "      <td>-1.631878</td>\n",
       "      <td>1.103190</td>\n",
       "    </tr>\n",
       "    <tr>\n",
       "      <th>5</th>\n",
       "      <td>-17.720651</td>\n",
       "      <td>2.121542</td>\n",
       "      <td>0.095752</td>\n",
       "    </tr>\n",
       "    <tr>\n",
       "      <th>6</th>\n",
       "      <td>-16.655978</td>\n",
       "      <td>-1.307170</td>\n",
       "      <td>1.247515</td>\n",
       "    </tr>\n",
       "    <tr>\n",
       "      <th>7</th>\n",
       "      <td>-17.495911</td>\n",
       "      <td>2.547099</td>\n",
       "      <td>0.347929</td>\n",
       "    </tr>\n",
       "    <tr>\n",
       "      <th>8</th>\n",
       "      <td>-14.574976</td>\n",
       "      <td>-1.416864</td>\n",
       "      <td>-2.295124</td>\n",
       "    </tr>\n",
       "    <tr>\n",
       "      <th>9</th>\n",
       "      <td>-17.367933</td>\n",
       "      <td>-0.582289</td>\n",
       "      <td>1.322606</td>\n",
       "    </tr>\n",
       "  </tbody>\n",
       "</table>\n",
       "</div>"
      ],
      "text/plain": [
       "           a         b         c\n",
       "0 -17.608552 -1.598552  0.745737\n",
       "1 -17.070743  1.906364 -0.914113\n",
       "2 -18.032489  1.150281 -0.385718\n",
       "3 -15.236045 -1.862909 -1.738307\n",
       "4 -16.163433 -1.631878  1.103190\n",
       "5 -17.720651  2.121542  0.095752\n",
       "6 -16.655978 -1.307170  1.247515\n",
       "7 -17.495911  2.547099  0.347929\n",
       "8 -14.574976 -1.416864 -2.295124\n",
       "9 -17.367933 -0.582289  1.322606"
      ]
     },
     "execution_count": 56,
     "metadata": {},
     "output_type": "execute_result"
    }
   ],
   "source": [
    "df3 = pd.DataFrame(T3D, columns = [\"a\", \"b\", \"c\"])\n",
    "df3"
   ]
  },
  {
   "cell_type": "code",
   "execution_count": 57,
   "id": "ff5f90d1-73b6-42f3-8697-a0b480531632",
   "metadata": {},
   "outputs": [
    {
     "data": {
      "text/plain": [
       "<function matplotlib.pyplot.show(close=None, block=None)>"
      ]
     },
     "execution_count": 57,
     "metadata": {},
     "output_type": "execute_result"
    },
    {
     "data": {
      "image/png": "[encoded data removed]",
      "text/plain": [
       "<Figure size 640x480 with 1 Axes>"
      ]
     },
     "metadata": {},
     "output_type": "display_data"
    }
   ],
   "source": [
    "from mpl_toolkits.mplot3d import Axes3D\n",
    "\n",
    "ax3d = plt.figure().add_subplot(projection=\"3d\")\n",
    "\n",
    "arrayx = np.array(df3[\"a\"])\n",
    "arrayy = np.array(df3[\"b\"])\n",
    "arrayz = np.array(df3[\"c\"])\n",
    "\n",
    "ax3d.scatter(arrayx, arrayy, arrayz)\n",
    "for x, y, z, label in zip(arrayx, arrayy, arrayz, alumnos_names):\n",
    "    ax3d.text(x,y,z,label)\n",
    "plt.title(\"Datos en 3D\")\n",
    "plt.show    "
   ]
  },
  {
   "cell_type": "code",
   "execution_count": 59,
   "id": "ce5ff867-6810-428d-bdd0-758f4171ac9f",
   "metadata": {},
   "outputs": [
    {
     "data": {
      "text/plain": [
       "<Axes: >"
      ]
     },
     "execution_count": 59,
     "metadata": {},
     "output_type": "execute_result"
    },
    {
     "data": {
      "image/png": "[encoded data removed]",
      "text/plain": [
       "<Figure size 1000x700 with 1 Axes>"
      ]
     },
     "metadata": {},
     "output_type": "display_data"
    }
   ],
   "source": [
    "plt.figure(figsize = (10, 7))\n",
    "Error2 = B - A2D\n",
    "\n",
    "dfError2 = pd.DataFrame(Error2, columns = ['Matematicas', 'Ciencias', 'Español', 'Historia', 'EdFisica'])\n",
    "dfError2.boxplot()"
   ]
  },
  {
   "cell_type": "code",
   "execution_count": 60,
   "id": "5b705d77-5af0-4dba-ad29-7d3697e0e8d1",
   "metadata": {},
   "outputs": [
    {
     "name": "stdout",
     "output_type": "stream",
     "text": [
      "Errores promedio por columna\n"
     ]
    },
    {
     "data": {
      "text/plain": [
       "array([-2.04650684e-05,  1.32612606e-02, -1.94778869e-02, -2.45074289e-02,\n",
       "        3.30602005e-02])"
      ]
     },
     "execution_count": 60,
     "metadata": {},
     "output_type": "execute_result"
    }
   ],
   "source": [
    "print(\"Errores promedio por columna\")\n",
    "Error2.mean(axis=0)"
   ]
  },
  {
   "cell_type": "code",
   "execution_count": 61,
   "id": "1378afae-e436-44f5-88a1-3edd4289873c",
   "metadata": {},
   "outputs": [
    {
     "name": "stdout",
     "output_type": "stream",
     "text": [
      "[[ 0.34754114 -0.22762726  0.50957681 -0.48512051 -0.09898421]\n",
      " [-0.00649243 -0.00437093  0.1123389  -0.08289996 -0.01858503]\n",
      " [-0.06453175  0.0324355   0.04430024 -0.01475998 -0.00491554]\n",
      " [-0.6205042   0.36799326 -0.3669445   0.45646119  0.08569658]\n",
      " [-0.05471948  0.05448256 -0.34368606  0.27520153  0.05976293]\n",
      " [-0.03115817  0.02152065 -0.06141538  0.05536366  0.01151201]\n",
      " [-0.05253602  0.03948422 -0.14874639  0.12745512  0.02698888]\n",
      " [ 0.03174444 -0.0069775  -0.14866605  0.10300832  0.02369326]\n",
      " [ 0.50968476 -0.29557293  0.20675387 -0.30350542 -0.05451889]\n",
      " [-0.06123771  0.02312074  0.15027234 -0.09568679 -0.02281405]]\n"
     ]
    }
   ],
   "source": [
    "Error3 = B - A3D\n",
    "print(Error3)"
   ]
  },
  {
   "cell_type": "code",
   "execution_count": 62,
   "id": "9b650d2c-c2ed-4410-a4ef-4764b40d1b39",
   "metadata": {},
   "outputs": [
    {
     "data": {
      "text/plain": [
       "<Axes: >"
      ]
     },
     "execution_count": 62,
     "metadata": {},
     "output_type": "execute_result"
    },
    {
     "data": {
      "image/png": "[encoded data removed]",
      "text/plain": [
       "<Figure size 1000x700 with 1 Axes>"
      ]
     },
     "metadata": {},
     "output_type": "display_data"
    }
   ],
   "source": [
    "plt.figure(figsize = (10, 7))\n",
    "\n",
    "dfError3 = pd.DataFrame(Error3, columns = ['Matematicas', 'Ciencias', 'Español', 'Historia', 'EdFisica'])\n",
    "dfError3.boxplot()"
   ]
  },
  {
   "cell_type": "code",
   "execution_count": 63,
   "id": "bd84879c-923b-4d79-843c-8d3c3db606de",
   "metadata": {},
   "outputs": [
    {
     "name": "stdout",
     "output_type": "stream",
     "text": [
      "Errores promedio por columna\n"
     ]
    },
    {
     "data": {
      "text/plain": [
       "array([-0.00022094,  0.00044883, -0.00462162,  0.00355172,  0.00078359])"
      ]
     },
     "execution_count": 63,
     "metadata": {},
     "output_type": "execute_result"
    }
   ],
   "source": [
    "print(\"Errores promedio por columna\")\n",
    "Error3.mean(axis=0)"
   ]
  },
  {
   "cell_type": "code",
   "execution_count": null,
   "id": "4bda910e-8f42-4f08-af49-cf25a62b9e7e",
   "metadata": {},
   "outputs": [],
   "source": []
  }
 ],
 "metadata": {
  "kernelspec": {
   "display_name": "Python 3.10 (py310_env)",
   "language": "python",
   "name": "py310_env"
  },
  "language_info": {
   "codemirror_mode": {
    "name": "ipython",
    "version": 3
   },
   "file_extension": ".py",
   "mimetype": "text/x-python",
   "name": "python",
   "nbconvert_exporter": "python",
   "pygments_lexer": "ipython3",
   "version": "3.10.16"
  }
 },
 "nbformat": 4,
 "nbformat_minor": 5
}
